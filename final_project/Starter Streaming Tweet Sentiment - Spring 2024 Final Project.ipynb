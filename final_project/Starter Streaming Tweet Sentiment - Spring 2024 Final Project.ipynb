{
 "cells": [
  {
   "cell_type": "markdown",
   "metadata": {
    "application/vnd.databricks.v1+cell": {
     "cellMetadata": {},
     "inputWidgets": {},
     "nuid": "fc749083-2211-485c-943f-640e198b2c70",
     "showTitle": false,
     "title": ""
    }
   },
   "source": [
    "## DSCC202-402 Data Science at Scale Final Project\n",
    "### Tracking Tweet sentiment at scale using a pretrained transformer (classifier)\n",
    "<p>Consider the following illustration of the end to end system that you will be building.  Each student should do their own work.  The project will demonstrate your understanding of Spark Streaming, the medalion data architecture using Delta Lake, Spark Inference at Scale using an MLflow packaged model as well as Exploritory Data Analysis and System Tracking and Monitoring.</p>\n",
    "<br><br>\n",
    "<img src=\"https://data-science-at-scale.s3.amazonaws.com/images/pipeline.drawio.png\">\n",
    "\n",
    "<p>\n",
    "You will be pulling an updated copy of the course GitHub repositiory: <a href=\"https://github.com/lpalum/dscc202-402-spring2024\">The Repo</a>.  If you are unclear on how to pull an updated copy using the GitHub command line, the following <a href=\"https://techwritingmatters.com/how-to-update-your-forked-repository-on-github\">document</a> is helpful.  Be sure to add the professors and TAs as collaborators on your project. \n",
    "\n",
    "- lpalum@gmail.com GitHub ID: lpalum\n",
    "- ajay.anand@rochester.edu GitHub ID: ajayan12\n",
    "- divyamunot1999@gmail.com GitHub ID: divyamunot\n",
    "- ylong6@u.Rochester.edu GitHub ID: NinaLong2077\n",
    "\n",
    "Once you have updates your fork of the repository you should see the following template project that is resident in the final_project directory.\n",
    "</p>\n",
    "\n",
    "<img src=\"https://data-science-at-scale.s3.amazonaws.com/images/notebooks.drawio.png\">\n",
    "\n",
    "<p>\n",
    "You can then pull your project into the Databrick Workspace using the <a href=\"https://www.databricks.training/step-by-step/importing-courseware-from-github/index.html\">Repos</a> feature.\n",
    "Each student is expected to submit the URL of their project on GitHub with their code checked in on the main/master branch.  This illustration highlights the branching scheme that you may use to work on your code in steps and then merge your submission into your master branch before submitting.\n",
    "</p>\n",
    "<img src=\"https://data-science-at-scale.s3.amazonaws.com/images/github.drawio.png\">\n",
    "<p>\n",
    "Work your way through this notebook which will give you the steps required to submit a complete and compliant project.  The following illustration and associated data dictionary specifies the transformations and data that you are to generate for each step in the medallion pipeline.\n",
    "</p>\n",
    "<br><br>\n",
    "<img src=\"https://data-science-at-scale.s3.amazonaws.com/images/dataframes.drawio.png\">\n",
    "\n",
    "#### Bronze Data - raw ingest\n",
    "- date - string in the source json\n",
    "- user - string in the source json\n",
    "- text - tweet string in the source json\n",
    "- sentiment - the given sentiment of the text as determined by an unknown model that is provided in the source json\n",
    "- source_file - the path of the source json file the this row of data was read from\n",
    "- processing_time - a timestamp of when you read this row from the source json\n",
    "\n",
    "#### Silver Data - Bronze Preprocessing\n",
    "- timestamp - convert date string in the bronze data to a timestamp\n",
    "- mention - every @username mentioned in the text string in the bronze data gets a row in this silver data table.\n",
    "- cleaned_text - the bronze text data with the mentions (@username) removed.\n",
    "- sentiment - the given sentiment that was associated with the text in the bronze table.\n",
    "\n",
    "#### Gold Data - Silver Table Inference\n",
    "- timestamp - the timestamp from the silver data table rows\n",
    "- mention - the mention from the silver data table rows\n",
    "- cleaned_text - the cleaned_text from the silver data table rows\n",
    "- sentiment - the given sentiment from the silver data table rows\n",
    "- predicted_score - score out of 100 from the Hugging Face Sentiment Transformer\n",
    "- predicted_sentiment - string representation of the sentiment\n",
    "- sentiment_id - 0 for negative and 1 for postive associated with the given sentiment\n",
    "- predicted_sentiment_id - 0 for negative and 1 for positive assocaited with the Hugging Face Sentiment Transformer\n",
    "\n",
    "#### Application Data - Gold Table Aggregation\n",
    "- min_timestamp - the oldest timestamp on a given mention (@username)\n",
    "- max_timestamp - the newest timestamp on a given mention (@username)\n",
    "- mention - the user (@username) that this row pertains to.\n",
    "- negative - total negative tweets directed at this mention (@username)\n",
    "- neutral - total neutral tweets directed at this mention (@username)\n",
    "- positive - total positive tweets directed at this mention (@username)\n",
    "\n",
    "When you are designing your approach, one of the main decisions that you will need to make is how you are going to orchestrate the streaming data processing in your pipeline.  There are several valid approaches.  First, you may choose to start the bronze_stream and let it complete (read and append all of the source data) before preceeding and starting up the silver_stream.  This approach has latency associated with it but it will allow your code to proceed in a linear fashion and process all the data by the end of your notebook execution.  Another potential approach is to start all the streams and have a \"watch\" method to determine when the pipeline has processed sufficient or all of the source data before stopping and displaying results.  Both of these approaches are valid and have different implications on how you will trigger your steams and how you will gate the execution of your pipeline.  Think through how you want to proceed and ask questions if you need guidance. The following references may be helpful:\n",
    "- [Spark Structured Streaming Programming Guide](https://spark.apache.org/docs/latest/structured-streaming-programming-guide.html)\n",
    "- [Databricks Autoloader - Cloudfiles](https://docs.databricks.com/en/ingestion/auto-loader/index.html)\n",
    "\n",
    "### Be sure that your project runs end to end when *Run all* is executued on this notebook! (15 Points out of 60)"
   ]
  },
  {
   "cell_type": "code",
   "execution_count": 0,
   "metadata": {
    "application/vnd.databricks.v1+cell": {
     "cellMetadata": {
      "byteLimit": 2048000,
      "rowLimit": 10000
     },
     "inputWidgets": {},
     "nuid": "068f25d0-1387-4342-89cf-ce82a8d614ce",
     "showTitle": true,
     "title": "Pull in the Includes & Utiltites"
    }
   },
   "outputs": [],
   "source": [
    "%run ./includes/includes"
   ]
  },
  {
   "cell_type": "code",
   "execution_count": 0,
   "metadata": {
    "application/vnd.databricks.v1+cell": {
     "cellMetadata": {
      "byteLimit": 2048000,
      "rowLimit": 10000
     },
     "inputWidgets": {},
     "nuid": "6512bf1b-50e0-4a4b-84a9-e280a6260b56",
     "showTitle": true,
     "title": "Notebook Control Widgets (maybe helpful)"
    }
   },
   "outputs": [],
   "source": [
    "\"\"\"\n",
    "Adding a widget to the notebook to control the clearing of a previous run.\n",
    "or stopping the active streams using routines defined in the utilities notebook\n",
    "\"\"\"\n",
    "dbutils.widgets.removeAll()\n",
    "\n",
    "dbutils.widgets.dropdown(\"clear_previous_run\", \"No\", [\"No\",\"Yes\"])\n",
    "if (getArgument(\"clear_previous_run\") == \"Yes\"):\n",
    "    clear_previous_run()\n",
    "    print(\"Cleared all previous data.\")\n",
    "\n",
    "dbutils.widgets.dropdown(\"stop_streams\", \"No\", [\"No\",\"Yes\"])\n",
    "if (getArgument(\"stop_streams\") == \"Yes\"):\n",
    "    stop_all_streams()\n",
    "    print(\"Stopped all active streams.\")\n",
    "\n",
    "from delta import *\n",
    "dbutils.widgets.dropdown(\"optimize_tables\", \"No\", [\"No\",\"Yes\"])\n",
    "if (getArgument(\"optimize_tables\") == \"Yes\"):\n",
    "    # Suck up those small files that we have been appending.\n",
    "    DeltaTable.forPath(spark, BRONZE_DELTA).optimize().executeCompaction()\n",
    "    # Suck up those small files that we have been appending.\n",
    "    DeltaTable.forPath(spark, SILVER_DELTA).optimize().executeCompaction()\n",
    "    # Suck up those small files that we have been appending.\n",
    "    DeltaTable.forPath(spark, GOLD_DELTA).optimize().executeCompaction()\n",
    "    print(\"Optimized all of the Delta Tables\")"
   ]
  },
  {
   "cell_type": "markdown",
   "metadata": {
    "application/vnd.databricks.v1+cell": {
     "cellMetadata": {},
     "inputWidgets": {},
     "nuid": "e8ce7c13-7f8f-4e11-b50c-fdaebbcf3f99",
     "showTitle": false,
     "title": ""
    }
   },
   "source": [
    "## 1.0 Import your libraries here...\n",
    "- Are your shuffle partitions consistent with your cluster and your workload?\n",
    "- Do you have the necessary libraries to perform the required operations in the pipeline/application?"
   ]
  },
  {
   "cell_type": "code",
   "execution_count": 0,
   "metadata": {
    "application/vnd.databricks.v1+cell": {
     "cellMetadata": {
      "byteLimit": 2048000,
      "rowLimit": 10000
     },
     "inputWidgets": {},
     "nuid": "67bafbb7-d34e-4e86-b159-b2e062faa1d0",
     "showTitle": false,
     "title": ""
    }
   },
   "outputs": [],
   "source": [
    "# ENTER YOUR CODE HERE\n",
    "import numpy as np\n",
    "import pandas as pd\n",
    "import matplotlib.pyplot as plt\n",
    "import seaborn as sns\n",
    "import mlflow\n",
    "\n",
    "from pyspark.sql import SparkSession\n",
    "from pyspark.sql.types import StructType, StructField, StringType, TimestampType, DoubleType, IntegerType\n",
    "from pyspark.sql import SparkSession\n",
    "from pyspark.sql.functions import current_timestamp, count, input_file_name, col, desc, sum, when, explode, from_json, to_timestamp, regexp_replace, split, regexp_extract, udf, lit\n",
    "from transformers import pipeline\n",
    "from pyspark.ml.evaluation import BinaryClassificationEvaluator\n",
    "from pyspark.sql import functions as F\n",
    "from delta.tables import DeltaTable"
   ]
  },
  {
   "cell_type": "markdown",
   "metadata": {
    "application/vnd.databricks.v1+cell": {
     "cellMetadata": {},
     "inputWidgets": {},
     "nuid": "2b7624b4-0aa5-46b7-9767-52f462b2c574",
     "showTitle": false,
     "title": ""
    }
   },
   "source": [
    "## 2.0 Use the utility functions to ...\n",
    "- Read the source file directory listing\n",
    "- Count the source files (how many are there?)\n",
    "- print the contents of one of the files"
   ]
  },
  {
   "cell_type": "code",
   "execution_count": 0,
   "metadata": {
    "application/vnd.databricks.v1+cell": {
     "cellMetadata": {
      "byteLimit": 2048000,
      "rowLimit": 10000
     },
     "inputWidgets": {},
     "nuid": "a59749d5-e45d-460f-9be1-33652cda2ea5",
     "showTitle": false,
     "title": ""
    }
   },
   "outputs": [],
   "source": [
    "# read the source file directory listing\n",
    "source_file_dir_listings = get_source_listing_df()"
   ]
  },
  {
   "cell_type": "code",
   "execution_count": 0,
   "metadata": {
    "application/vnd.databricks.v1+cell": {
     "cellMetadata": {
      "byteLimit": 2048000,
      "rowLimit": 10000
     },
     "inputWidgets": {},
     "nuid": "2e112983-e8c7-4ea0-8e8c-ae5d9c6b77ba",
     "showTitle": false,
     "title": ""
    }
   },
   "outputs": [],
   "source": [
    "# count the number of source files\n",
    "print(f\"There are {len(source_file_dir_listings)} source files\")"
   ]
  },
  {
   "cell_type": "code",
   "execution_count": 0,
   "metadata": {
    "application/vnd.databricks.v1+cell": {
     "cellMetadata": {
      "byteLimit": 2048000,
      "rowLimit": 10000
     },
     "inputWidgets": {},
     "nuid": "119aae43-ddc8-4bbc-bb49-0f82cc232278",
     "showTitle": false,
     "title": ""
    }
   },
   "outputs": [],
   "source": [
    "# examine the head of the data frame (first 5 entries)\n",
    "print(source_file_dir_listings.head(5))"
   ]
  },
  {
   "cell_type": "code",
   "execution_count": 0,
   "metadata": {
    "application/vnd.databricks.v1+cell": {
     "cellMetadata": {
      "byteLimit": 2048000,
      "rowLimit": 10000
     },
     "inputWidgets": {},
     "nuid": "5b793c7f-7cb2-41e3-8b7e-1242afa75532",
     "showTitle": false,
     "title": ""
    }
   },
   "outputs": [],
   "source": [
    "# print the contents of one of the files\n",
    "print(show_s3_file_contents(\"voc_volume/0.json\"))"
   ]
  },
  {
   "cell_type": "markdown",
   "metadata": {
    "application/vnd.databricks.v1+cell": {
     "cellMetadata": {},
     "inputWidgets": {},
     "nuid": "1676aed7-527f-4ea7-9d3b-52544e8c1e37",
     "showTitle": false,
     "title": ""
    }
   },
   "source": [
    "## 3.0 Transform the Raw Data to Bronze Data using a stream\n",
    "- define the schema for the raw data\n",
    "- setup a read stream using cloudfiles and the source data format\n",
    "- setup a write stream using cloudfiles to append to the bronze delta table\n",
    "- enforce schema\n",
    "- allow a new schema to be merged into the bronze delta table\n",
    "- Use the defined BRONZE_CHECKPOINT and BRONZE_DELTA paths defines in the includes\n",
    "- name your raw to bronze stream as bronze_stream\n",
    "- transform the raw data to the bronze data using the data definition at the top of the notebook"
   ]
  },
  {
   "cell_type": "code",
   "execution_count": 0,
   "metadata": {
    "application/vnd.databricks.v1+cell": {
     "cellMetadata": {
      "byteLimit": 2048000,
      "rowLimit": 10000
     },
     "inputWidgets": {},
     "nuid": "1153612c-0573-426f-972d-5d2f7a6bf240",
     "showTitle": false,
     "title": ""
    }
   },
   "outputs": [],
   "source": [
    "# define the schema for the raw data\n",
    "schema = StructType([\n",
    "    StructField(\"date\", StringType(), True),\n",
    "    StructField(\"user\", StringType(), True),\n",
    "    StructField(\"text\", StringType(), True),\n",
    "    StructField(\"sentiment\", StringType(), True),\n",
    "    StructField(\"source_file\", StringType(), True),\n",
    "    StructField(\"processing_time\", TimestampType(), True)\n",
    "])"
   ]
  },
  {
   "cell_type": "code",
   "execution_count": 0,
   "metadata": {
    "application/vnd.databricks.v1+cell": {
     "cellMetadata": {
      "byteLimit": 2048000,
      "rowLimit": 10000
     },
     "inputWidgets": {},
     "nuid": "09d3d044-476e-407b-8fc1-d683346e9384",
     "showTitle": false,
     "title": ""
    }
   },
   "outputs": [],
   "source": [
    "# instantiate spark session \n",
    "spark = SparkSession.builder.appName(\"Read/Write Tweet Streams from S3 ALL\").getOrCreate()\n",
    "\n",
    "# read stream\n",
    "read_stream = (spark.readStream\n",
    "              .format(\"cloudFiles\")\n",
    "              .option(\"cloudFiles.format\", \"json\")\n",
    "              .option(\"cloudFiles.inferColumnTypes\", \"true\")\n",
    "              .option(\"cloudFiles.schemaEvolutionMode\", \"failOnNewColumns\")\n",
    "              .schema(schema)\n",
    "              .load(TWEET_SOURCE_PATH))\n",
    "\n",
    "# add new columns for processing_time and source_file\n",
    "read_stream = read_stream.withColumn(\"processing_time\", current_timestamp())\n",
    "read_stream = read_stream.withColumn(\"source_file\", input_file_name())                               "
   ]
  },
  {
   "cell_type": "code",
   "execution_count": 0,
   "metadata": {
    "application/vnd.databricks.v1+cell": {
     "cellMetadata": {
      "byteLimit": 2048000,
      "rowLimit": 10000
     },
     "inputWidgets": {},
     "nuid": "6b36d1f0-a95f-4b98-b64a-040be1ea0c12",
     "showTitle": false,
     "title": ""
    }
   },
   "outputs": [],
   "source": [
    "# setup a write stream using cloudfiles to append to the bronze delta table\n",
    "bronze_stream = (read_stream\n",
    "                .writeStream\n",
    "                .outputMode(\"append\")\n",
    "                .format(\"delta\")\n",
    "                .option(\"mergeSchema\", \"true\") # allow a new schema to be merged into the bronze delta table\n",
    "                .option(\"checkpointLocation\", BRONZE_CHECKPOINT) # Use the defined BRONZE_CHECKPOINT\n",
    "                .queryName(\"bronze_stream\")\n",
    "                .start(BRONZE_DELTA)) # Use the defined BRONZE_DELTA \n",
    "    \n",
    "# awit termination after\n",
    "bronze_stream.awaitTermination() \n"
   ]
  },
  {
   "cell_type": "markdown",
   "metadata": {
    "application/vnd.databricks.v1+cell": {
     "cellMetadata": {},
     "inputWidgets": {},
     "nuid": "9bc3e824-d218-43e5-a43b-4c6dbe31950d",
     "showTitle": false,
     "title": ""
    }
   },
   "source": [
    "## 4.0 Bronze Data Exploratory Data Analysis\n",
    "- How many tweets are captured in your Bronze Table?\n",
    "- Are there any columns that contain Nan or Null values?  If so how many and what will you do in your silver transforms to address this?\n",
    "- Count the number of tweets by each unique user handle and sort the data by descending count.\n",
    "- How many tweets have at least one mention (@) how many tweet have no mentions (@)\n",
    "- Plot a bar chart that shows the top 20 tweeters (users)\n"
   ]
  },
  {
   "cell_type": "code",
   "execution_count": 0,
   "metadata": {
    "application/vnd.databricks.v1+cell": {
     "cellMetadata": {
      "byteLimit": 2048000,
      "implicitDf": true,
      "rowLimit": 10000
     },
     "inputWidgets": {},
     "nuid": "42ef69b0-cfe2-4d5d-912c-bbb8d41bc0f7",
     "showTitle": false,
     "title": ""
    }
   },
   "outputs": [],
   "source": [
    "# load bronze delta table and examine head\n",
    "bronze_df = spark.read.format('delta').load(BRONZE_DELTA)\n",
    "display(bronze_df.head(10))"
   ]
  },
  {
   "cell_type": "code",
   "execution_count": 0,
   "metadata": {
    "application/vnd.databricks.v1+cell": {
     "cellMetadata": {
      "byteLimit": 2048000,
      "rowLimit": 10000
     },
     "inputWidgets": {},
     "nuid": "b26159b8-554a-4903-916f-091ed3c91d61",
     "showTitle": false,
     "title": ""
    }
   },
   "outputs": [],
   "source": [
    "# Number of tweets captured in bronze table:\n",
    "print(f\"Number of tweets captured in bronze table are: {bronze_df.count()}\")"
   ]
  },
  {
   "cell_type": "markdown",
   "metadata": {
    "application/vnd.databricks.v1+cell": {
     "cellMetadata": {},
     "inputWidgets": {},
     "nuid": "2b69b755-f43f-4480-a15d-096cd5db6fda",
     "showTitle": false,
     "title": ""
    }
   },
   "source": [
    "There are no columns that contain Nan or Null values."
   ]
  },
  {
   "cell_type": "code",
   "execution_count": 0,
   "metadata": {
    "application/vnd.databricks.v1+cell": {
     "cellMetadata": {
      "byteLimit": 2048000,
      "rowLimit": 10000
     },
     "inputWidgets": {},
     "nuid": "3edaff83-8d3e-44a5-9916-4cbb21b0d6dc",
     "showTitle": false,
     "title": ""
    }
   },
   "outputs": [],
   "source": [
    "# Count the number of tweets by each unique user handle\n",
    "tweets_by_user = bronze_df.groupBy(\"user\").agg(count(\"*\").alias(\"tweet_count\"))\n",
    "tweets_by_user.show(10)"
   ]
  },
  {
   "cell_type": "code",
   "execution_count": 0,
   "metadata": {
    "application/vnd.databricks.v1+cell": {
     "cellMetadata": {
      "byteLimit": 2048000,
      "rowLimit": 10000
     },
     "inputWidgets": {},
     "nuid": "ab4e1eea-8005-4465-a473-e2b5a1615374",
     "showTitle": false,
     "title": ""
    }
   },
   "outputs": [],
   "source": [
    "# Sort the data by descending count of the number of tweets by each unique user handle\n",
    "tweet_count_by_user_sorted = bronze_df.groupBy('user') \\\n",
    "    .agg(count('*').alias('tweet_count')) \\\n",
    "    .orderBy(desc('tweet_count'))\n",
    "\n",
    "bronze_df_sorted = bronze_df \\\n",
    "    .join(tweet_count_by_user_sorted, 'user', 'left_outer') \\\n",
    "    .orderBy(desc('tweet_count')) \\\n",
    "    .drop('tweet_count')\n"
   ]
  },
  {
   "cell_type": "code",
   "execution_count": 0,
   "metadata": {
    "application/vnd.databricks.v1+cell": {
     "cellMetadata": {
      "byteLimit": 2048000,
      "rowLimit": 10000
     },
     "inputWidgets": {},
     "nuid": "22d936b0-e2c3-4b41-8e6a-f19e3dfdea02",
     "showTitle": false,
     "title": ""
    }
   },
   "outputs": [],
   "source": [
    "# show tweet count by user sorted\n",
    "tweet_count_by_user_sorted.show(5)"
   ]
  },
  {
   "cell_type": "code",
   "execution_count": 0,
   "metadata": {
    "application/vnd.databricks.v1+cell": {
     "cellMetadata": {
      "byteLimit": 2048000,
      "rowLimit": 10000
     },
     "inputWidgets": {},
     "nuid": "48ebcb98-c2ac-4cfb-9cb4-ea28220b7921",
     "showTitle": false,
     "title": ""
    }
   },
   "outputs": [],
   "source": [
    "display(bronze_df_sorted.head(10))"
   ]
  },
  {
   "cell_type": "code",
   "execution_count": 0,
   "metadata": {
    "application/vnd.databricks.v1+cell": {
     "cellMetadata": {
      "byteLimit": 2048000,
      "rowLimit": 10000
     },
     "inputWidgets": {},
     "nuid": "9509d864-904c-4c3e-84fe-4699a60fb0da",
     "showTitle": false,
     "title": ""
    }
   },
   "outputs": [],
   "source": [
    "#How many tweets have at least one mention (@) how many tweet have no mentions (@)\n",
    "\n",
    "# Count the number of tweets with at least one mention (@)\n",
    "tweets_with_mention = bronze_df_sorted.select(\n",
    "    sum(when(col(\"text\").rlike(\"@\\\\w+\"), 1).otherwise(0)).alias(\"tweets_with_mention\")\n",
    ").collect()[0][\"tweets_with_mention\"]\n",
    "\n",
    "# Count the number of tweets with no mentions (@)\n",
    "tweets_without_mention = bronze_df_sorted.select(\n",
    "    sum(when(~col(\"text\").rlike(\"@\\\\w+\"), 1).otherwise(0)).alias(\"tweets_without_mention\")\n",
    ").collect()[0][\"tweets_without_mention\"]\n",
    "\n",
    "# Print the results\n",
    "print(\"Number of tweets with at least one mention (@):\", tweets_with_mention)\n",
    "print(\"Number of tweets with no mentions (@):\", tweets_without_mention)"
   ]
  },
  {
   "cell_type": "code",
   "execution_count": 0,
   "metadata": {
    "application/vnd.databricks.v1+cell": {
     "cellMetadata": {
      "byteLimit": 2048000,
      "rowLimit": 10000
     },
     "inputWidgets": {},
     "nuid": "812c57ef-b66e-49dc-9079-950257cb2a2e",
     "showTitle": false,
     "title": ""
    }
   },
   "outputs": [],
   "source": [
    "#Plot a bar chart that shows the top 20 tweeters (users)\n",
    "# Get the top 20 tweeters\n",
    "top_20_tweeters = tweet_count_by_user_sorted.limit(20)\n",
    "# Convert to Pandas DataFrame for plotting\n",
    "top_20_tweeters_pd = top_20_tweeters.toPandas()\n",
    "\n",
    "# Plot\n",
    "plt.figure(figsize=(10, 6))\n",
    "plt.bar(top_20_tweeters_pd['user'], top_20_tweeters_pd['tweet_count'], color='skyblue')\n",
    "plt.xlabel('User')\n",
    "plt.ylabel('Number of Tweets')\n",
    "plt.title('Top 20 Tweeters')\n",
    "plt.xticks(rotation=45, ha='right')\n",
    "plt.tight_layout()\n",
    "plt.show()"
   ]
  },
  {
   "cell_type": "code",
   "execution_count": 0,
   "metadata": {
    "application/vnd.databricks.v1+cell": {
     "cellMetadata": {
      "byteLimit": 2048000,
      "rowLimit": 10000
     },
     "inputWidgets": {},
     "nuid": "c6e67366-4993-470c-ae43-6c4228ec5fcf",
     "showTitle": false,
     "title": ""
    }
   },
   "outputs": [],
   "source": [
    "# write sorted delta table to BRONZE_DELTA \n",
    "bronze_df_sorted.write.format(\"delta\").mode(\"overwrite\").save(BRONZE_DELTA)"
   ]
  },
  {
   "cell_type": "markdown",
   "metadata": {
    "application/vnd.databricks.v1+cell": {
     "cellMetadata": {},
     "inputWidgets": {},
     "nuid": "38c290b9-a42a-4551-857b-3f461b8a1be6",
     "showTitle": false,
     "title": ""
    }
   },
   "source": [
    "## 5.0 Transform the Bronze Data to Silver Data using a stream\n",
    "- setup a read stream on your bronze delta table\n",
    "- setup a write stream to append to the silver delta table\n",
    "- Use the defined SILVER_CHECKPOINT and SILVER_DELTA paths in the includes\n",
    "- name your bronze to silver stream as silver_stream\n",
    "- transform the bronze data to the silver data using the data definition at the top of the notebook"
   ]
  },
  {
   "cell_type": "code",
   "execution_count": 0,
   "metadata": {
    "application/vnd.databricks.v1+cell": {
     "cellMetadata": {
      "byteLimit": 2048000,
      "rowLimit": 10000
     },
     "inputWidgets": {},
     "nuid": "65b029cb-ba45-4625-a9c1-d0d410a4962b",
     "showTitle": false,
     "title": ""
    }
   },
   "outputs": [],
   "source": [
    "# Setup read stream\n",
    "bronze_stream_df = spark.readStream.format(\"delta\").load(BRONZE_DELTA) \n",
    "\n",
    "# Convert 'date' column to timestamp\n",
    "spark.conf.set(\"spark.sql.legacy.timeParserPolicy\", \"LEGACY\")\n",
    "bronze_stream_df = bronze_stream_df.withColumn('timestamp', to_timestamp(col('date'), \"EEE MMM dd HH:mm:ss zzz yyyy\"))\n",
    "\n",
    "# Extract mentions from 'text' column\n",
    "mention_pattern = r'@(\\w+)'\n",
    "bronze_stream_df = bronze_stream_df.withColumn('mentions', regexp_extract(col('text'), mention_pattern, 1))\n",
    "\n",
    "# Explode mentions into separate rows\n",
    "silver_stream_df = bronze_stream_df.select('timestamp', explode(split(col('mentions'), ' ')).alias('mention'), \n",
    "                                           col('text'), col('sentiment'))\n",
    "\n",
    "# Filter out rows without mentions, since our analysis is only focused on tweets with mentions \n",
    "silver_stream_df = silver_stream_df.filter(col('mention') != '')\n",
    "\n",
    "# Remove mention from 'text' column\n",
    "silver_stream_df = silver_stream_df.withColumn('cleaned_text', regexp_replace(col('text'), mention_pattern, ''))\n",
    "\n",
    "# Select required columns for Silver Delta table\n",
    "silver_stream_df = silver_stream_df.select('timestamp', 'mention', 'cleaned_text', 'sentiment')\n"
   ]
  },
  {
   "cell_type": "code",
   "execution_count": 0,
   "metadata": {
    "application/vnd.databricks.v1+cell": {
     "cellMetadata": {
      "byteLimit": 2048000,
      "rowLimit": 10000
     },
     "inputWidgets": {},
     "nuid": "4f3aafa8-f6d3-4058-bc59-d8b6d373c194",
     "showTitle": false,
     "title": ""
    }
   },
   "outputs": [],
   "source": [
    "# Write stream to Silver Delta table\n",
    "silver_stream = silver_stream_df.writeStream \\\n",
    "    .format(\"delta\") \\\n",
    "    .outputMode(\"append\") \\\n",
    "    .option(\"checkpointLocation\", SILVER_CHECKPOINT) \\\n",
    "    .queryName(\"silver_stream\") \\\n",
    "    .start(SILVER_DELTA)\n",
    "\n",
    "silver_stream.awaitTermination()"
   ]
  },
  {
   "cell_type": "code",
   "execution_count": 0,
   "metadata": {
    "application/vnd.databricks.v1+cell": {
     "cellMetadata": {
      "byteLimit": 2048000,
      "rowLimit": 10000
     },
     "inputWidgets": {},
     "nuid": "6d23a224-7678-4654-931c-ea2fe6fa96bf",
     "showTitle": false,
     "title": ""
    }
   },
   "outputs": [],
   "source": [
    "silver_df = spark.read.format(\"delta\").load(SILVER_DELTA)\n",
    "display(silver_df.head(5))"
   ]
  },
  {
   "cell_type": "code",
   "execution_count": 0,
   "metadata": {
    "application/vnd.databricks.v1+cell": {
     "cellMetadata": {
      "byteLimit": 2048000,
      "rowLimit": 10000
     },
     "inputWidgets": {},
     "nuid": "5e47f628-7bb5-4be5-9822-32b11e4ea861",
     "showTitle": false,
     "title": ""
    }
   },
   "outputs": [],
   "source": [
    "print(f\"Number of tweets captured in the silver table: {silver_df.count()}\")"
   ]
  },
  {
   "cell_type": "markdown",
   "metadata": {
    "application/vnd.databricks.v1+cell": {
     "cellMetadata": {},
     "inputWidgets": {},
     "nuid": "9ee38aba-e340-4766-8339-71ef2ecfde3a",
     "showTitle": false,
     "title": ""
    }
   },
   "source": [
    "## 6.0 Transform the Silver Data to Gold Data using a stream\n",
    "- setup a read stream on your silver delta table\n",
    "- setup a write stream to append to the gold delta table\n",
    "- Use the defined GOLD_CHECKPOINT and GOLD_DELTA paths defines in the includes\n",
    "- name your silver to gold stream as gold_stream\n",
    "- transform the silver data to the gold data using the data definition at the top of the notebook\n",
    "- Load the pretrained transformer sentiment classifier from the MODEL_NAME at the production level from the MLflow registry\n",
    "- Use a spark UDF to parallelize the inference across your silver data"
   ]
  },
  {
   "cell_type": "code",
   "execution_count": 0,
   "metadata": {
    "application/vnd.databricks.v1+cell": {
     "cellMetadata": {
      "byteLimit": 2048000,
      "rowLimit": 10000
     },
     "inputWidgets": {},
     "nuid": "31e8949d-c016-44a7-9f03-65f471dfd22d",
     "showTitle": false,
     "title": ""
    }
   },
   "outputs": [],
   "source": [
    "# load the model and test results on a few texts\n",
    "model = pipeline(model=HF_MODEL_NAME)\n",
    "\n",
    "print(f\"Result for sentiment extected negative:\")\n",
    "print(model(\"I am negative to this\"))\n",
    "print(f\"Result for sentiment extected positive:\")\n",
    "print(model(\"I am positive to this\"))\n",
    "print(f\"Result for sentiment extected neutral:\")\n",
    "print(model(\"I am neutral to this\"))"
   ]
  },
  {
   "cell_type": "code",
   "execution_count": 0,
   "metadata": {
    "application/vnd.databricks.v1+cell": {
     "cellMetadata": {
      "byteLimit": 2048000,
      "rowLimit": 10000
     },
     "inputWidgets": {},
     "nuid": "17be42aa-b25e-4e29-8e55-e074affbe637",
     "showTitle": false,
     "title": ""
    }
   },
   "outputs": [],
   "source": [
    "# define dictionary to enable conversion from given sentiment label to sentiment id\n",
    "given_sentiment_label_ids = {'positive': 1, 'negative': 0}\n",
    "given_sentiment_id_udf = udf(lambda sentiment: given_sentiment_label_ids.get(sentiment), IntegerType())\n",
    "\n",
    "# define dictionary to enable conversion from predicted sentiment label to sentiment id\n",
    "# I am putting the neutral predictions in the negative bucket, so assigning it id of 0\n",
    "predicted_sentiment_label_ids = {'NEG': 0, 'POS': 1, 'NEU': 0} \n",
    "\n",
    "def predict_sentiment(text):\n",
    "    result = model(text)\n",
    "    label = result[0]['label']\n",
    "    score = result[0]['score']\n",
    "    pred_sentiment_id = predicted_sentiment_label_ids[label]\n",
    "    return label, score, pred_sentiment_id\n",
    "\n",
    "predict_sentiment_udf = udf(predict_sentiment, StructType([\n",
    "    StructField('label', StringType()),\n",
    "    StructField('score', DoubleType()),\n",
    "    StructField('pred_sentiment_id', IntegerType())\n",
    "]))\n",
    "\n",
    "# setup read stream on Silver delta table\n",
    "silver_delta_df = spark.readStream.format(\"delta\").load(SILVER_DELTA) \n",
    "\n",
    "# Apply the UDF to predict sentiment and create new columns\n",
    "gold_delta_df = silver_delta_df.withColumn('predicted_sentiment_info', predict_sentiment_udf(col('cleaned_text')))\n",
    "\n",
    "# Make columns from the predicted_sentiment_info column by unpacking\n",
    "gold_delta_df = gold_delta_df \\\n",
    "    .withColumn('predicted_sentiment', col('predicted_sentiment_info').getField('label')) \\\n",
    "    .withColumn('predicted_score', col('predicted_sentiment_info').getField('score')) \\\n",
    "    .withColumn('predicted_sentiment_id', col('predicted_sentiment_info').getField('pred_sentiment_id'))\n",
    "\n",
    "# create sentiment_id for given sentiment\n",
    "gold_delta_df = gold_delta_df.withColumn('sentiment_id', given_sentiment_id_udf(col('sentiment')))\n",
    "\n",
    "\n",
    "gold_delta_df = gold_delta_df.select('timestamp', 'mention', 'cleaned_text', 'sentiment', 'predicted_score',\n",
    "                                     'predicted_sentiment', 'sentiment_id', 'predicted_sentiment_id')\n"
   ]
  },
  {
   "cell_type": "code",
   "execution_count": 0,
   "metadata": {
    "application/vnd.databricks.v1+cell": {
     "cellMetadata": {
      "byteLimit": 2048000,
      "rowLimit": 10000
     },
     "inputWidgets": {},
     "nuid": "2329fce9-9d3f-4cf6-8bc6-009ea57c84b5",
     "showTitle": false,
     "title": ""
    }
   },
   "outputs": [],
   "source": [
    "# Write stream to Gold Delta table\n",
    "gold_stream = gold_delta_df.writeStream \\\n",
    "    .format(\"delta\") \\\n",
    "    .outputMode(\"append\") \\\n",
    "    .option(\"checkpointLocation\", GOLD_CHECKPOINT) \\\n",
    "    .start(GOLD_DELTA)\n",
    "\n",
    "gold_stream.awaitTermination()"
   ]
  },
  {
   "cell_type": "code",
   "execution_count": 0,
   "metadata": {
    "application/vnd.databricks.v1+cell": {
     "cellMetadata": {
      "byteLimit": 2048000,
      "rowLimit": 10000
     },
     "inputWidgets": {},
     "nuid": "e474511f-56c6-448a-9cec-9a1c7db484a0",
     "showTitle": false,
     "title": ""
    }
   },
   "outputs": [],
   "source": [
    "gold_df = spark.read.format(\"delta\").load(GOLD_DELTA)\n",
    "display(gold_df.head(5))"
   ]
  },
  {
   "cell_type": "code",
   "execution_count": 0,
   "metadata": {
    "application/vnd.databricks.v1+cell": {
     "cellMetadata": {
      "byteLimit": 2048000,
      "rowLimit": 10000
     },
     "inputWidgets": {},
     "nuid": "5a1e9579-f419-4e4d-965c-7ea5412665e6",
     "showTitle": false,
     "title": ""
    }
   },
   "outputs": [],
   "source": [
    "print(f\"Number of tweets captured in the gold table: {gold_df.count()}\")"
   ]
  },
  {
   "cell_type": "markdown",
   "metadata": {
    "application/vnd.databricks.v1+cell": {
     "cellMetadata": {},
     "inputWidgets": {},
     "nuid": "0494d8b4-5a55-47fc-af12-47325f34a303",
     "showTitle": false,
     "title": ""
    }
   },
   "source": [
    "## 7.0 Capture the accuracy metrics from the gold table in MLflow\n",
    "Store the following in an MLflow experiment run:\n",
    "- Store the precision, recall, and F1-score as MLflow metrics\n",
    "- Store an image of the confusion matrix as an MLflow artifact\n",
    "- Store the mdoel name and the MLflow version that was used as an MLflow parameters\n",
    "- Store the version of the Delta Table (input-silver) as an MLflow parameter"
   ]
  },
  {
   "cell_type": "code",
   "execution_count": 0,
   "metadata": {
    "application/vnd.databricks.v1+cell": {
     "cellMetadata": {
      "byteLimit": 2048000,
      "rowLimit": 10000
     },
     "inputWidgets": {},
     "nuid": "3bb174ad-67e4-4b0a-be36-ff20a760ee8b",
     "showTitle": false,
     "title": ""
    }
   },
   "outputs": [],
   "source": [
    "# Extract list of 0s and 1s from predictions and labels in gold delta table\n",
    "predictions = gold_df.select(\"predicted_sentiment_id\").rdd.flatMap(lambda x: x).collect()\n",
    "labels = gold_df.select(\"sentiment_id\").rdd.flatMap(lambda x: x).collect()\n",
    "\n",
    "# Calculate the true positives, false positives and false negatives\n",
    "TP, FP, FN = 0, 0, 0\n",
    "for p, l in zip(predictions, labels):\n",
    "    if p == 1 and l == 1:\n",
    "        TP += 1\n",
    "    elif p == 1 and l == 0:\n",
    "        FP += 1\n",
    "    elif p == 0 and l == 1:\n",
    "        FN += 1\n",
    "\n",
    "# Calculate precision, recall, and F1-score, and confusion matrix\n",
    "precision = (TP)/(TP + FP)\n",
    "recall = (TP)/(TP + FN)\n",
    "f1_score = (2 * precision * recall) / (precision + recall)\n",
    "conf_matrix = gold_df.crosstab(\"sentiment_id\", \"predicted_sentiment_id\").toPandas()\n",
    "mlflow_version = mlflow.__version__\n",
    "model_name = HF_MODEL_NAME[HF_MODEL_NAME.find('/') + 1:23] + '_model'\n",
    "\n",
    "# get version of input-silver delta table\n",
    "\n",
    "sdf = DeltaTable.forPath(spark, SILVER_DELTA)\n",
    "history_df = sdf.history() \\\n",
    "    .select(\"version\") \\\n",
    "    .orderBy(\"version\", ascending=False)\n",
    "silver_version = history_df.collect()[0][0]\n",
    "\n",
    "# Plot the matrix\n",
    "plt.figure(figsize=(8, 6))\n",
    "sns.heatmap(conf_matrix.astype(int), annot=True, fmt=\"d\", cmap=\"Blues\")\n",
    "plt.xlabel(\"Predicted\")\n",
    "plt.ylabel(\"Actual\")\n",
    "plt.title(\"Confusion Matrix\")\n",
    "plt.savefig(\"confusion_matrix.png\")\n",
    "\n",
    "with mlflow.start_run():\n",
    "    # store the silver delta table version as mlflow parameter\n",
    "    mlflow.log_param(\"silver delta_table_version\", silver_version)\n",
    "    # Store the model name and the MLflow version that was used as an MLflow parameters\n",
    "    mlflow.log_param(\"model_name\", model_name)\n",
    "    mlflow.log_param(\"mlflow_version\", mlflow_version)\n",
    "    # Store an image of the confusion matrix as an MLflow artifact\n",
    "    mlflow.log_artifact(\"confusion_matrix.png\")\n",
    "    # Store the precision, recall, and F1-score as MLflow metrics\n",
    "    mlflow.log_metric(\"precision\", precision)\n",
    "    mlflow.log_metric(\"recall\", recall)\n",
    "    mlflow.log_metric(\"f1_score\", f1_score)\n",
    "\n",
    "plt.show()"
   ]
  },
  {
   "cell_type": "markdown",
   "metadata": {
    "application/vnd.databricks.v1+cell": {
     "cellMetadata": {},
     "inputWidgets": {},
     "nuid": "81e0e2de-b872-4698-81cc-1669646c2183",
     "showTitle": false,
     "title": ""
    }
   },
   "source": [
    "## 8.0 Application Data Processing and Visualization\n",
    "- How many mentions are there in the gold data total?\n",
    "- Count the number of neutral, positive and negative tweets for each mention in new columns\n",
    "- Capture the total for each mention in a new column\n",
    "- Sort the mention count totals in descending order\n",
    "- Plot a bar chart of the top 20 mentions with positive sentiment (the people who are in favor)\n",
    "- Plot a bar chart of the top 20 mentions with negative sentiment (the people who are the vilians)\n",
    "\n",
    "You may want to use the \"Loop Application\" widget to control whether you repeateded display the latest plots while the data comes in from your streams before moving on to the next section and cleaning up your run.\n",
    "\n",
    "*note: A mention is a specific twitter user that has been \"mentioned\" in a tweet with an @user reference."
   ]
  },
  {
   "cell_type": "code",
   "execution_count": 0,
   "metadata": {
    "application/vnd.databricks.v1+cell": {
     "cellMetadata": {
      "byteLimit": 2048000,
      "rowLimit": 10000
     },
     "inputWidgets": {},
     "nuid": "8250667b-eaa5-48a1-90c7-bfe11e666e32",
     "showTitle": false,
     "title": ""
    }
   },
   "outputs": [],
   "source": [
    "# count the total number of distinct mentions in the gold delta table\n",
    "distinct_mention_count = gold_df.select(\"mention\").distinct().count()\n",
    "\n",
    "print(\"Total number of distinct mentions int he gold data:\", distinct_mention_count)"
   ]
  },
  {
   "cell_type": "code",
   "execution_count": 0,
   "metadata": {
    "application/vnd.databricks.v1+cell": {
     "cellMetadata": {
      "byteLimit": 2048000,
      "rowLimit": 10000
     },
     "inputWidgets": {},
     "nuid": "110fcd1a-1696-43c1-bfa2-24e295f0a7f7",
     "showTitle": false,
     "title": ""
    }
   },
   "outputs": [],
   "source": [
    "# make a dataframe for application data by aggregating users with the required information\n",
    "appdata_df = gold_df.groupBy(\"mention\").agg(\n",
    "                    F.sum(F.when(F.col(\"predicted_sentiment\") == \"NEG\", 1).otherwise(0)).alias(\"negative\"),\n",
    "                    F.sum(F.when(F.col(\"predicted_sentiment\") == \"POS\", 1).otherwise(0)).alias(\"positive\"),\n",
    "                    F.sum(F.when(F.col(\"predicted_sentiment\") == \"NEU\", 1).otherwise(0)).alias(\"neutral\"),\n",
    "                    F.min(\"timestamp\").alias(\"min_timestamp\"),\n",
    "                    F.max(\"timestamp\").alias(\"max_timestamp\"))\n",
    "\n",
    "# Capture the total for each mention in a new column\n",
    "appdata_df = appdata_df.withColumn(\"total\", F.col(\"negative\") + F.col(\"positive\") + F.col(\"neutral\"))\n",
    "\n",
    "# Sort the mention count totals in descending order\n",
    "appdata_df = appdata_df.orderBy(F.col(\"total\").desc())"
   ]
  },
  {
   "cell_type": "code",
   "execution_count": 0,
   "metadata": {
    "application/vnd.databricks.v1+cell": {
     "cellMetadata": {
      "byteLimit": 2048000,
      "rowLimit": 10000
     },
     "inputWidgets": {},
     "nuid": "3cfc121e-9fca-4f09-9d4a-f88eabc3923d",
     "showTitle": false,
     "title": ""
    }
   },
   "outputs": [],
   "source": [
    "# Plot a bar chart of the top 20 mentions with positive sentiment (the people who are in favor)\n",
    "appdata_df_pd = appdata_df.toPandas()\n",
    "top_positive_mentions = appdata_df_pd.sort_values(\"positive\", ascending = False).head(20)\n",
    "plt.figure(figsize=(10, 6))\n",
    "plt.bar(top_positive_mentions[\"mention\"], top_positive_mentions[\"positive\"], color='skyblue')\n",
    "plt.xlabel(\"Mention (@username)\")\n",
    "plt.ylabel(\"Positive Count\")\n",
    "plt.title(\"Top 20 Positive Mentions\")\n",
    "plt.xticks(rotation=90)\n",
    "plt.tight_layout()\n",
    "plt.show()"
   ]
  },
  {
   "cell_type": "code",
   "execution_count": 0,
   "metadata": {
    "application/vnd.databricks.v1+cell": {
     "cellMetadata": {
      "byteLimit": 2048000,
      "rowLimit": 10000
     },
     "inputWidgets": {},
     "nuid": "6eefdda0-f58c-4905-9696-0783027c113f",
     "showTitle": false,
     "title": ""
    }
   },
   "outputs": [],
   "source": [
    "# Plot a bar chart of the top 20 mentions with negative sentiment (the people who are the vilians)\n",
    "top_negative_mentions = appdata_df_pd.sort_values(\"negative\", ascending = False).head(20)\n",
    "plt.figure(figsize=(10, 6))\n",
    "plt.bar(top_negative_mentions[\"mention\"], top_negative_mentions[\"negative\"], color='skyblue')\n",
    "plt.xlabel(\"Mention (@username)\")\n",
    "plt.ylabel(\"Negative Count\")\n",
    "plt.title(\"Top 20 Negative Mentions\")\n",
    "plt.xticks(rotation=90)\n",
    "plt.tight_layout()\n",
    "plt.show()"
   ]
  },
  {
   "cell_type": "markdown",
   "metadata": {
    "application/vnd.databricks.v1+cell": {
     "cellMetadata": {},
     "inputWidgets": {},
     "nuid": "5d5add3f-0c13-4d81-86d8-12cf3cfdd2c8",
     "showTitle": false,
     "title": ""
    }
   },
   "source": [
    "## 9.0 Clean up and completion of your pipeline\n",
    "- using the utilities what streams are running? If any.\n",
    "- Stop all active streams\n",
    "- print out the elapsed time of your notebook."
   ]
  },
  {
   "cell_type": "code",
   "execution_count": 0,
   "metadata": {
    "application/vnd.databricks.v1+cell": {
     "cellMetadata": {
      "byteLimit": 2048000,
      "rowLimit": 10000
     },
     "inputWidgets": {},
     "nuid": "0304e685-c26e-447d-b230-c37266f30003",
     "showTitle": false,
     "title": ""
    }
   },
   "outputs": [],
   "source": [
    "# check what streams are running\n",
    "for stream in spark.streams.active:\n",
    "    print(stream)"
   ]
  },
  {
   "cell_type": "code",
   "execution_count": 0,
   "metadata": {
    "application/vnd.databricks.v1+cell": {
     "cellMetadata": {
      "byteLimit": 2048000,
      "rowLimit": 10000
     },
     "inputWidgets": {},
     "nuid": "5438b771-1112-436d-8c1d-e3095a81c04b",
     "showTitle": false,
     "title": ""
    }
   },
   "outputs": [],
   "source": [
    "# stop all active streams\n",
    "stop_all_streams()"
   ]
  },
  {
   "cell_type": "code",
   "execution_count": 0,
   "metadata": {
    "application/vnd.databricks.v1+cell": {
     "cellMetadata": {
      "byteLimit": 2048000,
      "rowLimit": 10000
     },
     "inputWidgets": {},
     "nuid": "ea759fc8-1d78-4d6d-b571-e2e256448b76",
     "showTitle": false,
     "title": ""
    }
   },
   "outputs": [],
   "source": [
    "# Get the notebooks ending time note START_TIME was established in the include file when the notebook started.\n",
    "END_TIME = time.time()\n",
    "ELAPSED_TIME = END_TIME - START_TIME\n",
    "print(f\"Elapsed time of notebook: {round(ELAPSED_TIME, 2)} seconds\")"
   ]
  },
  {
   "cell_type": "markdown",
   "metadata": {
    "application/vnd.databricks.v1+cell": {
     "cellMetadata": {},
     "inputWidgets": {},
     "nuid": "b88fc0e5-f50c-4ed1-9480-16a4c8a44b30",
     "showTitle": false,
     "title": ""
    }
   },
   "source": [
    "## 10.0 How Optimized is your Spark Application (Grad Students Only)\n",
    "Graduate students (registered for the DSCC-402 section of the course) are required to do this section.  This is a written analysis using the Spark UI (link to screen shots) that support your analysis of your pipelines execution and what is driving its performance.\n",
    "Recall that Spark Optimization has 5 significant dimensions of considertation:\n",
    "- Spill: write to executor disk due to lack of memory\n",
    "- Skew: imbalance in partition size\n",
    "- Shuffle: network io moving data between executors (wide transforms)\n",
    "- Storage: inefficiency due to disk storage format (small files, location)\n",
    "- Serialization: distribution of code segments across the cluster\n",
    "\n",
    "Comment on each of the dimentions of performance and how your impelementation is or is not being affected.  Use specific information in the Spark UI to support your description.  \n",
    "\n",
    "Note: you can take sreenshots of the Spark UI from your project runs in databricks and then link to those pictures by storing them as a publicly accessible file on your cloud drive (google, one drive, etc.)\n",
    "\n",
    "References:\n",
    "- [Spark UI Reference Reference](https://spark.apache.org/docs/latest/web-ui.html#web-ui)\n",
    "- [Spark UI Simulator](https://www.databricks.training/spark-ui-simulator/index.html)"
   ]
  },
  {
   "cell_type": "markdown",
   "metadata": {
    "application/vnd.databricks.v1+cell": {
     "cellMetadata": {},
     "inputWidgets": {},
     "nuid": "a0a5707d-a5ca-4e87-9e74-3b13d00337b0",
     "showTitle": false,
     "title": ""
    }
   },
   "source": [
    "### ENTER YOUR MARKDOWN HERE\n",
    "\n",
    "1. Spill: From the simulator, I did not notice any spill occuring through my pipeline, assuming the dataset size was not as memory intensive to cause a spill.\n",
    "2. Skew: I did not notice an imbalance in partition size, the dataset, with its balance of negative/positive classes and tasks' mapping to cores, did not seem to cause a skew.\n",
    "3. Shuffle: There are various wide transforms in the pipeline, like groupBy, aggregate, distinct and joins, which cause shuffles across partitions.\n",
    "4. Storage: from the data I am able to access in the simulator, the storage format did not seem to be highly efficient given the large number of relatively small json files read and processed.\n"
   ]
  }
 ],
 "metadata": {
  "application/vnd.databricks.v1+notebook": {
   "dashboards": [],
   "language": "python",
   "notebookMetadata": {
    "mostRecentlyExecutedCommandWithImplicitDF": {
     "commandId": 4256197685357688,
     "dataframes": [
      "_sqldf"
     ]
    },
    "pythonIndentUnit": 4,
    "widgetLayout": [
     {
      "breakBefore": false,
      "name": "clear_previous_run",
      "width": 203
     },
     {
      "breakBefore": false,
      "name": "stop_streams",
      "width": 203
     }
    ]
   },
   "notebookName": "Starter Streaming Tweet Sentiment - Spring 2024 Final Project",
   "widgets": {
    "clear_previous_run": {
     "currentValue": "No",
     "nuid": "11b43403-c70f-41ef-ab0e-41172583baaa",
     "typedWidgetInfo": null,
     "widgetInfo": {
      "widgetType": "dropdown",
      "defaultValue": "No",
      "label": null,
      "name": "clear_previous_run",
      "options": {
       "widgetType": "dropdown",
       "autoCreated": null,
       "choices": [
        "No",
        "Yes"
       ]
      }
     }
    },
    "optimize_tables": {
     "currentValue": "No",
     "nuid": "d27f2950-3146-4010-8bc6-58c47a93e7a9",
     "typedWidgetInfo": null,
     "widgetInfo": {
      "widgetType": "dropdown",
      "defaultValue": "No",
      "label": null,
      "name": "optimize_tables",
      "options": {
       "widgetType": "dropdown",
       "autoCreated": null,
       "choices": [
        "No",
        "Yes"
       ]
      }
     }
    },
    "stop_streams": {
     "currentValue": "No",
     "nuid": "d70a2190-266e-473c-86a7-84f7bf56b386",
     "typedWidgetInfo": null,
     "widgetInfo": {
      "widgetType": "dropdown",
      "defaultValue": "No",
      "label": null,
      "name": "stop_streams",
      "options": {
       "widgetType": "dropdown",
       "autoCreated": null,
       "choices": [
        "No",
        "Yes"
       ]
      }
     }
    }
   }
  }
 },
 "nbformat": 4,
 "nbformat_minor": 0
}
